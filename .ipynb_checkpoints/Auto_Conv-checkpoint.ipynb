{
 "cells": [
  {
   "cell_type": "code",
   "execution_count": 1,
   "metadata": {},
   "outputs": [
    {
     "name": "stderr",
     "output_type": "stream",
     "text": [
      "Using TensorFlow backend.\n"
     ]
    }
   ],
   "source": [
    "from keras.layers import Input, Dense\n",
    "from keras.models import Model\n",
    "from scipy.io import loadmat\n",
    "import numpy as np"
   ]
  },
  {
   "cell_type": "code",
   "execution_count": 74,
   "metadata": {},
   "outputs": [
    {
     "name": "stdout",
     "output_type": "stream",
     "text": [
      "115600\n",
      "282.80291907138377\n",
      "-3.887406217885882\n",
      "(64, 115600)\n",
      "255\n",
      "0\n"
     ]
    }
   ],
   "source": [
    "X = loadmat('Input.mat')\n",
    "Y = X[\"Input\"]\n",
    "X_1 = loadmat('Target.mat')\n",
    "Z = X_1[\"Target\"]\n",
    "#print(X)\n",
    "#print(Y)\n",
    "[patch_size, number_of_patches] = Y.shape\n",
    "print(number_of_patches)\n",
    "print(Y.max())\n",
    "print(Y.min())\n",
    "print(Z.shape)\n",
    "print(Z.max())\n",
    "print(Z.min())"
   ]
  },
  {
   "cell_type": "code",
   "execution_count": 75,
   "metadata": {},
   "outputs": [
    {
     "name": "stdout",
     "output_type": "stream",
     "text": [
      "(115600, 64)\n"
     ]
    }
   ],
   "source": [
    "B = np.zeros([number_of_patches, patch_size]) \n",
    "print(B.shape)\n",
    "for i in range(number_of_patches):\n",
    "    B[i,:] = Z[:,i]\n",
    "#for i in range(63504):\n",
    "#    B[i,:] = B[i,:]\n",
    "#print(B.shape)\n"
   ]
  },
  {
   "cell_type": "code",
   "execution_count": null,
   "metadata": {},
   "outputs": [],
   "source": []
  },
  {
   "cell_type": "code",
   "execution_count": 76,
   "metadata": {},
   "outputs": [
    {
     "name": "stdout",
     "output_type": "stream",
     "text": [
      "(115600, 64)\n",
      "282.80291907138377\n",
      "-3.887406217885882\n",
      "282.80291907138377\n",
      "-3.887406217885882\n",
      "(64, 115600)\n"
     ]
    }
   ],
   "source": [
    "A = np.zeros([number_of_patches, patch_size]) \n",
    "print(A.shape)\n",
    "for i in range(number_of_patches):\n",
    "    A[i,:] = Y[:,i]\n",
    "print(A[:,:].max())\n",
    "print(A[:,:].min())\n",
    "print(Y[:,:].max())\n",
    "print(Y[:,:].min())\n",
    "print(Y.shape)"
   ]
  },
  {
   "cell_type": "code",
   "execution_count": 77,
   "metadata": {},
   "outputs": [
    {
     "name": "stdout",
     "output_type": "stream",
     "text": [
      "(115600, 8, 8, 1)\n"
     ]
    }
   ],
   "source": [
    "C = np.zeros([number_of_patches,8,8,1])\n",
    "for i in range(len(A)):\n",
    "    C[i] = np.reshape(A[i],[8,8,1])\n",
    "print(C.shape)"
   ]
  },
  {
   "cell_type": "code",
   "execution_count": 78,
   "metadata": {},
   "outputs": [
    {
     "name": "stdout",
     "output_type": "stream",
     "text": [
      "(115600, 8, 8, 1)\n"
     ]
    }
   ],
   "source": [
    "D = np.zeros([number_of_patches,8,8,1])\n",
    "for i in range(len(B)):\n",
    "    D[i] = np.reshape(B[i],[8,8,1])\n",
    "print(D.shape)"
   ]
  },
  {
   "cell_type": "code",
   "execution_count": 79,
   "metadata": {},
   "outputs": [
    {
     "name": "stdout",
     "output_type": "stream",
     "text": [
      "_________________________________________________________________\n",
      "Layer (type)                 Output Shape              Param #   \n",
      "=================================================================\n",
      "input_5 (InputLayer)         (None, 8, 8, 1)           0         \n",
      "_________________________________________________________________\n",
      "conv2d_29 (Conv2D)           (None, 8, 8, 16)          160       \n",
      "_________________________________________________________________\n",
      "max_pooling2d_9 (MaxPooling2 (None, 4, 4, 16)          0         \n",
      "_________________________________________________________________\n",
      "conv2d_30 (Conv2D)           (None, 4, 4, 8)           1160      \n",
      "_________________________________________________________________\n",
      "max_pooling2d_10 (MaxPooling (None, 2, 2, 8)           0         \n",
      "_________________________________________________________________\n",
      "conv2d_31 (Conv2D)           (None, 2, 2, 8)           584       \n",
      "_________________________________________________________________\n",
      "conv2d_32 (Conv2D)           (None, 2, 2, 8)           584       \n",
      "_________________________________________________________________\n",
      "up_sampling2d_9 (UpSampling2 (None, 4, 4, 8)           0         \n",
      "_________________________________________________________________\n",
      "conv2d_33 (Conv2D)           (None, 4, 4, 8)           584       \n",
      "_________________________________________________________________\n",
      "up_sampling2d_10 (UpSampling (None, 8, 8, 8)           0         \n",
      "_________________________________________________________________\n",
      "conv2d_34 (Conv2D)           (None, 8, 8, 16)          1168      \n",
      "_________________________________________________________________\n",
      "conv2d_35 (Conv2D)           (None, 8, 8, 1)           145       \n",
      "=================================================================\n",
      "Total params: 4,385\n",
      "Trainable params: 4,385\n",
      "Non-trainable params: 0\n",
      "_________________________________________________________________\n"
     ]
    }
   ],
   "source": [
    "from keras.layers import Input, Dense, Conv2D, MaxPooling2D, UpSampling2D\n",
    "from keras.models import Model\n",
    "from keras import backend as K\n",
    "\n",
    "input_img = Input(shape=(8, 8, 1))  # adapt this if using `channels_first` image data format\n",
    "\n",
    "x = Conv2D(16, (3, 3), activation='relu', padding='same')(input_img)\n",
    "x = MaxPooling2D((2, 2), padding='same')(x)\n",
    "\n",
    "\n",
    "x = Conv2D(8, (3, 3), activation='relu', padding='same')(x)\n",
    "x = MaxPooling2D((2, 2), padding='same')(x)\n",
    "\n",
    "\n",
    "x = Conv2D(8, (3, 3), activation='relu', padding='same')(x)\n",
    "#encoded = MaxPooling2D((2, 2), padding='same')(x)\n",
    "\n",
    "# at this point the representation is (4, 4, 8) i.e. 128-dimensional\n",
    "\n",
    "x = Conv2D(8, (3, 3), activation='relu', padding='same')(x)\n",
    "x = UpSampling2D((2, 2))(x)\n",
    "\n",
    "\n",
    "x = Conv2D(8, (3, 3), activation='relu', padding='same')(x)\n",
    "x = UpSampling2D((2, 2))(x)\n",
    "\n",
    "\n",
    "x = Conv2D(16, (3, 3), activation='relu', padding = 'same')(x)\n",
    "#x = UpSampling2D((2, 2))(x)\n",
    "decoded = Conv2D(1, (3, 3), activation='linear', padding='same')(x)\n",
    "\n",
    "autoencoder = Model(input_img, decoded)\n",
    "autoencoder.summary()\n",
    "autoencoder.compile(optimizer='adadelta', loss='mean_squared_error')"
   ]
  },
  {
   "cell_type": "code",
   "execution_count": 80,
   "metadata": {},
   "outputs": [
    {
     "name": "stdout",
     "output_type": "stream",
     "text": [
      "Epoch 1/40\n",
      "115600/115600 [==============================] - 14s 125us/step - loss: 554.5161\n",
      "Epoch 2/40\n",
      "115600/115600 [==============================] - 13s 117us/step - loss: 319.7012\n",
      "Epoch 3/40\n",
      "115600/115600 [==============================] - 14s 119us/step - loss: 290.0512\n",
      "Epoch 4/40\n",
      "115600/115600 [==============================] - 14s 119us/step - loss: 270.0821\n",
      "Epoch 5/40\n",
      "115600/115600 [==============================] - 14s 119us/step - loss: 252.3491\n",
      "Epoch 6/40\n",
      "115600/115600 [==============================] - 14s 125us/step - loss: 216.9566\n",
      "Epoch 7/40\n",
      "115600/115600 [==============================] - 14s 118us/step - loss: 213.7539\n",
      "Epoch 8/40\n",
      "115600/115600 [==============================] - 14s 118us/step - loss: 198.6450\n",
      "Epoch 9/40\n",
      "115600/115600 [==============================] - 14s 120us/step - loss: 203.6564\n",
      "Epoch 10/40\n",
      "115600/115600 [==============================] - 14s 117us/step - loss: 190.0098\n",
      "Epoch 11/40\n",
      "115600/115600 [==============================] - 13s 113us/step - loss: 190.4622\n",
      "Epoch 12/40\n",
      "115600/115600 [==============================] - 14s 118us/step - loss: 184.0489\n",
      "Epoch 13/40\n",
      "115600/115600 [==============================] - 14s 118us/step - loss: 172.5033\n",
      "Epoch 14/40\n",
      "115600/115600 [==============================] - 13s 115us/step - loss: 157.4272\n",
      "Epoch 15/40\n",
      "115600/115600 [==============================] - 13s 116us/step - loss: 156.6015\n",
      "Epoch 16/40\n",
      "115600/115600 [==============================] - 13s 114us/step - loss: 161.3482\n",
      "Epoch 17/40\n",
      "115600/115600 [==============================] - 14s 118us/step - loss: 155.7617\n",
      "Epoch 18/40\n",
      "115600/115600 [==============================] - 13s 116us/step - loss: 151.9464\n",
      "Epoch 19/40\n",
      "115600/115600 [==============================] - 13s 115us/step - loss: 148.7285\n",
      "Epoch 20/40\n",
      "115600/115600 [==============================] - 14s 117us/step - loss: 145.2024\n",
      "Epoch 21/40\n",
      "115600/115600 [==============================] - 13s 117us/step - loss: 142.0094\n",
      "Epoch 22/40\n",
      "115600/115600 [==============================] - 14s 118us/step - loss: 136.1753\n",
      "Epoch 23/40\n",
      "115600/115600 [==============================] - 13s 116us/step - loss: 138.3340\n",
      "Epoch 24/40\n",
      "115600/115600 [==============================] - 14s 117us/step - loss: 141.0087\n",
      "Epoch 25/40\n",
      "115600/115600 [==============================] - 14s 121us/step - loss: 140.5634\n",
      "Epoch 26/40\n",
      "115600/115600 [==============================] - 14s 117us/step - loss: 138.8196\n",
      "Epoch 27/40\n",
      "115600/115600 [==============================] - 14s 121us/step - loss: 131.3642\n",
      "Epoch 28/40\n",
      "115600/115600 [==============================] - 14s 119us/step - loss: 130.9763\n",
      "Epoch 29/40\n",
      "115600/115600 [==============================] - 13s 117us/step - loss: 132.8218\n",
      "Epoch 30/40\n",
      "115600/115600 [==============================] - 13s 115us/step - loss: 130.8185\n",
      "Epoch 31/40\n",
      "115600/115600 [==============================] - 13s 114us/step - loss: 130.4983\n",
      "Epoch 32/40\n",
      "115600/115600 [==============================] - 13s 113us/step - loss: 136.1500\n",
      "Epoch 33/40\n",
      "115600/115600 [==============================] - 13s 114us/step - loss: 136.2159\n",
      "Epoch 34/40\n",
      "115600/115600 [==============================] - 13s 115us/step - loss: 130.5167\n",
      "Epoch 35/40\n",
      "115600/115600 [==============================] - 14s 117us/step - loss: 129.2383\n",
      "Epoch 36/40\n",
      "115600/115600 [==============================] - 13s 116us/step - loss: 132.3564\n",
      "Epoch 37/40\n",
      "115600/115600 [==============================] - 13s 116us/step - loss: 128.5064\n",
      "Epoch 38/40\n",
      "115600/115600 [==============================] - 14s 122us/step - loss: 127.3865\n",
      "Epoch 39/40\n",
      "115600/115600 [==============================] - 14s 117us/step - loss: 127.2540\n",
      "Epoch 40/40\n",
      "115600/115600 [==============================] - 13s 116us/step - loss: 123.7081\n"
     ]
    },
    {
     "data": {
      "text/plain": [
       "<keras.callbacks.History at 0x18dc9e16978>"
      ]
     },
     "execution_count": 80,
     "metadata": {},
     "output_type": "execute_result"
    }
   ],
   "source": [
    "# create a placeholder for an encoded (32-dimensional) input\n",
    "##encoded_input = Input(shape=(encoding_dim,))\n",
    "# retrieve the last layer of the autoencoder model\n",
    "###decoder_layer = autoencoder.layers[-1]\n",
    "# create the decoder model\n",
    "###decoder = Model(encoded_input, decoder_layer(encoded_input))\n",
    "\n",
    "autoencoder = Model(input_img, decoded)\n",
    "autoencoder.compile(optimizer='adadelta', loss='mean_squared_error')\n",
    "\n",
    "autoencoder.fit(C, D,\n",
    "                epochs=40,\n",
    "                batch_size=256,\n",
    "                shuffle=True)"
   ]
  },
  {
   "cell_type": "code",
   "execution_count": 81,
   "metadata": {},
   "outputs": [
    {
     "name": "stdout",
     "output_type": "stream",
     "text": [
      "(28224, 64)\n",
      "(28224, 8, 8, 1)\n",
      "289.0127816363591\n",
      "-5.512529431359042\n"
     ]
    }
   ],
   "source": [
    "###autoencoder.compile(optimizer='adadelta', loss='mean_squared_error')\n",
    "Test = loadmat('Test.mat')\n",
    "Tst = Test[\"Test\"]\n",
    "[patch_size_test, number_of_patches_test] = Tst.shape\n",
    "Test_Data = np.zeros([number_of_patches_test,patch_size])\n",
    "print(Test_Data.shape)\n",
    "for i in range(number_of_patches_test):\n",
    "    Test_Data[i,:] = Tst[:,i]\n",
    "T = np.zeros([number_of_patches_test,8,8,1])\n",
    "for i in range(len(Test_Data)):\n",
    "    T[i] = np.reshape(Test_Data[i],[8,8,1])\n",
    "print(T.shape)\n",
    "print(T.max())\n",
    "print(T.min())"
   ]
  },
  {
   "cell_type": "code",
   "execution_count": 82,
   "metadata": {},
   "outputs": [],
   "source": [
    "#Test1 = loadmat('Test1.mat')\n",
    "#Tst1 = Test1[\"Test1\"]\n",
    "#[patch_size_test, number_of_patches_test] = Tst1.shape\n",
    "#Test1_Data = np.zeros([number_of_patches_test,patch_size])\n",
    "#print(Test1_Data.shape)\n",
    "#for i in range(number_of_patches_test):\n",
    "#    Test1_Data[i,:] = Tst1[:,i]\n",
    "#T1 = np.zeros([number_of_patches_test,8,8,1])\n",
    "#for i in range(len(Test_Data)):\n",
    " #   T1[i] = np.reshape(Test1_Data[i],[8,8,1])\n",
    "#print(T1.shape)\n",
    "#print(T1.max())\n",
    "#print(T1.min())"
   ]
  },
  {
   "cell_type": "code",
   "execution_count": 83,
   "metadata": {},
   "outputs": [],
   "source": [
    "#Test2 = loadmat('Test2.mat')\n",
    "#Tst2 = Test2[\"Test2\"]\n",
    "#[patch_size_test, number_of_patches_test] = Tst2.shape\n",
    "#Test2_Data = np.zeros([number_of_patches_test,patch_size])\n",
    "#print(Test2_Data.shape)\n",
    "#for i in range(number_of_patches_test):\n",
    "#    Test2_Data[i,:] = Tst2[:,i]\n",
    "#T2 = np.zeros([number_of_patches_test,8,8,1])\n",
    "#for i in range(len(Test2_Data)):\n",
    "#    T2[i] = np.reshape(Test2_Data[i],[8,8,1])\n",
    "#print(T2.shape)"
   ]
  },
  {
   "cell_type": "code",
   "execution_count": 84,
   "metadata": {},
   "outputs": [],
   "source": [
    "#Test3 = loadmat('Test3.mat')\n",
    "#Tst3 = Test3[\"Test3\"]\n",
    "#[patch_size_test, number_of_patches_test] = Tst3.shape\n",
    "#Test3_Data = np.zeros([number_of_patches_test,patch_size])\n",
    "\n",
    "#print(Test3_Data.shape)\n",
    "#for i in range(number_of_patches_test):\n",
    "#    Test3_Data[i,:] = Tst3[:,i]\n",
    "#T3 = np.zeros([number_of_patches_test,8,8,1])\n",
    "#for i in range(len(Test3_Data)):\n",
    "#    T3[i] = np.reshape(Test3_Data[i],[8,8,1])\n",
    "#print(T3.shape)"
   ]
  },
  {
   "cell_type": "code",
   "execution_count": 85,
   "metadata": {},
   "outputs": [],
   "source": [
    "###autoencoder.fit(A, B,\n",
    "###                epochs=200,\n",
    "###                batch_size=256,\n",
    "###                shuffle=True)\n",
    "###                #validation_data=(x_test, x_test))\n"
   ]
  },
  {
   "cell_type": "code",
   "execution_count": 86,
   "metadata": {},
   "outputs": [],
   "source": [
    "# encode and decode some digits\n",
    "# note that we take them from the *test* set\n",
    "###encoded_imgs = encoder.predict(A)\n",
    "###decoded_imgs = decoder.predict(encoded_imgs)\n",
    "decoded_imgs = autoencoder.predict(T)\n",
    "#decoded_imgs1 = autoencoder.predict(T1)\n",
    "#decoded_imgs2 = autoencoder.predict(T2)\n",
    "#decoded_imgs3 = autoencoder.predict(T3)"
   ]
  },
  {
   "cell_type": "code",
   "execution_count": 87,
   "metadata": {},
   "outputs": [
    {
     "name": "stdout",
     "output_type": "stream",
     "text": [
      "(28224, 8, 8, 1)\n",
      "341.67743\n",
      "-5.3057547\n"
     ]
    }
   ],
   "source": [
    "print(decoded_imgs.shape)\n",
    "print(decoded_imgs.max())\n",
    "print(decoded_imgs.min())"
   ]
  },
  {
   "cell_type": "code",
   "execution_count": 88,
   "metadata": {},
   "outputs": [
    {
     "name": "stdout",
     "output_type": "stream",
     "text": [
      "(64, 28224)\n"
     ]
    }
   ],
   "source": [
    "M = np.zeros([patch_size,number_of_patches_test]) \n",
    "\n",
    "for i in range(len(decoded_imgs)):\n",
    "    M[:,i] = np.reshape(decoded_imgs[i],patch_size)\n",
    "print(M.shape)"
   ]
  },
  {
   "cell_type": "code",
   "execution_count": 89,
   "metadata": {},
   "outputs": [],
   "source": [
    "#M1 = np.zeros([patch_size,number_of_patches_test]) \n",
    "\n",
    "#for i in range(len(decoded_imgs1)):\n",
    "#    M1[:,i] = np.reshape(decoded_imgs1[i],patch_size)\n",
    "#print(M1.shape)\n",
    "#M2 = np.zeros([patch_size,number_of_patches_test]) \n",
    "\n",
    "#for i in range(len(decoded_imgs2)):\n",
    "#    M2[:,i] = np.reshape(decoded_imgs2[i],patch_size)\n",
    "#print(M2.shape)\n",
    "#M3 = np.zeros([patch_size,number_of_patches_test]) \n",
    "\n",
    "#for i in range(len(decoded_imgs3)):\n",
    "#    M3[:,i] = np.reshape(decoded_imgs3[i],patch_size)\n",
    "#print(M3.shape)"
   ]
  },
  {
   "cell_type": "code",
   "execution_count": 90,
   "metadata": {},
   "outputs": [],
   "source": [
    "#for i in range(28224):\n",
    "#    M[:,i] = decoded_imgs[i,:]"
   ]
  },
  {
   "cell_type": "code",
   "execution_count": 91,
   "metadata": {},
   "outputs": [],
   "source": [
    "import scipy.io as sio\n",
    "\n",
    "sio.savemat('Rec.mat',{\"Decoded\":M})\n",
    "#sio.savemat('Rec1.mat',{\"Decoded1\":M1})\n",
    "#sio.savemat('Rec2.mat',{\"Decoded2\":M2})\n",
    "#sio.savemat('Rec3.mat',{\"Decoded3\":M3})"
   ]
  },
  {
   "cell_type": "code",
   "execution_count": null,
   "metadata": {},
   "outputs": [],
   "source": []
  },
  {
   "cell_type": "code",
   "execution_count": null,
   "metadata": {},
   "outputs": [],
   "source": []
  }
 ],
 "metadata": {
  "kernelspec": {
   "display_name": "Python 3",
   "language": "python",
   "name": "python3"
  },
  "language_info": {
   "codemirror_mode": {
    "name": "ipython",
    "version": 3
   },
   "file_extension": ".py",
   "mimetype": "text/x-python",
   "name": "python",
   "nbconvert_exporter": "python",
   "pygments_lexer": "ipython3",
   "version": "3.6.3"
  }
 },
 "nbformat": 4,
 "nbformat_minor": 2
}
